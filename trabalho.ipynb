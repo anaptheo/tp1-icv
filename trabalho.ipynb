{
 "cells": [
  {
   "cell_type": "code",
   "execution_count": null,
   "metadata": {},
   "outputs": [],
   "source": [
    "import cv2\n",
    "import numpy as np\n",
    "from matplotlib import pyplot as plt\n",
    "import sys\n",
    "\n",
    "\n",
    "# 1o: filtrar a imagem usando alguma transformada (to tentando a dft agora mas pode ser outra)\n",
    "# 2o: implementar algum algoritmo de codificacao (to pensando no aritmetico)\n",
    "\n",
    "img = cv2.imread('lena512.pgm',0)\n",
    "dft = np.fft.fft2(img)\n",
    "\n",
    "# ordena os coeficientes mais altos\n",
    "dft_sorted = np.sort(np.abs(dft.reshape(-1)))\n",
    "print(dft_sorted.size)\n",
    "\n",
    "# manter 10% dos coeficientes mais altos\n",
    "keep = 0.1\n",
    "\n",
    "# ver qual o menor valor entre os coeficientes mais altos\n",
    "lower_threshold = dft_sorted[int(np.floor((1-keep)*len(dft_sorted)))]\n",
    "\n",
    "# TENTATIVA 1 de filtrar os coeficientes menores que o limite inferior \n",
    "# filtered = dft[dft>lower_threshold]\n",
    "# print(filtered.size)\n",
    "\n",
    "# TENTATIVA 2 de filtrar os coeficientes menores que o limite inferior\n",
    "# verifica quais os valores da dft estão maiores/menores que o limite inferior retornando 0 para menor e 1 para maior \n",
    "multiplier = np.abs(dft)>lower_threshold \n",
    "high_coefficients = np.abs(dft) * multiplier\n",
    "compressed_img = np.fft.ifft2(high_coefficients)\n",
    "img_back = np.abs(compressed_img)\n",
    "\n",
    "plt.imshow(img_back, cmap='gray')\n",
    "\n",
    "# o codigo roda mas tem um pequeno problema: o imshow mostra uma imagem escura kkkk"
   ]
  }
 ],
 "metadata": {
  "language_info": {
   "name": "python"
  }
 },
 "nbformat": 4,
 "nbformat_minor": 2
}
